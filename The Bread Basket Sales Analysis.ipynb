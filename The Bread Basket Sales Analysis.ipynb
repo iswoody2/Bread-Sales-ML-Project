{
 "cells": [
  {
   "cell_type": "code",
   "execution_count": 518,
   "id": "846eb2c9",
   "metadata": {},
   "outputs": [],
   "source": [
    "import pandas as pd\n",
    "from datetime import datetime\n",
    "import numpy as np\n",
    "import seaborn as sns\n",
    "\n",
    "# sklearn imports\n",
    "from sklearn import preprocessing\n",
    "from sklearn.linear_model import LogisticRegression\n",
    "\n",
    "# Metrics imports\n",
    "from sklearn import metrics"
   ]
  },
  {
   "cell_type": "code",
   "execution_count": 625,
   "id": "2df30822",
   "metadata": {},
   "outputs": [],
   "source": [
    "#Read in the data\n",
    "df = pd.read_csv(\"/Users/ianwood/Downloads/Bakery.csv\")\n",
    "#Day time = Weekend or Weekday\n",
    "#Day part = Morning, afternoon, evening, night \n",
    "#Date Time = date and time stamp of a transaction\n",
    "#Items of purchase = [ Coffee, Bread, Scandinavian, Hot Chocotlate, Cookies, Muffines, Medialuna, Tea, Pastry, Jam, Tartine, Farm House, Fudge]"
   ]
  },
  {
   "cell_type": "code",
   "execution_count": 626,
   "id": "783f6c9a",
   "metadata": {},
   "outputs": [
    {
     "data": {
      "text/html": [
       "<div>\n",
       "<style scoped>\n",
       "    .dataframe tbody tr th:only-of-type {\n",
       "        vertical-align: middle;\n",
       "    }\n",
       "\n",
       "    .dataframe tbody tr th {\n",
       "        vertical-align: top;\n",
       "    }\n",
       "\n",
       "    .dataframe thead th {\n",
       "        text-align: right;\n",
       "    }\n",
       "</style>\n",
       "<table border=\"1\" class=\"dataframe\">\n",
       "  <thead>\n",
       "    <tr style=\"text-align: right;\">\n",
       "      <th></th>\n",
       "      <th>TransactionNo</th>\n",
       "      <th>Items</th>\n",
       "      <th>DateTime</th>\n",
       "      <th>Daypart</th>\n",
       "      <th>DayType</th>\n",
       "    </tr>\n",
       "  </thead>\n",
       "  <tbody>\n",
       "    <tr>\n",
       "      <th>0</th>\n",
       "      <td>1</td>\n",
       "      <td>Bread</td>\n",
       "      <td>10:00:00</td>\n",
       "      <td>Morning</td>\n",
       "      <td>Weekend</td>\n",
       "    </tr>\n",
       "    <tr>\n",
       "      <th>1</th>\n",
       "      <td>2</td>\n",
       "      <td>Scandinavian</td>\n",
       "      <td>10:00:00</td>\n",
       "      <td>Morning</td>\n",
       "      <td>Weekend</td>\n",
       "    </tr>\n",
       "    <tr>\n",
       "      <th>2</th>\n",
       "      <td>2</td>\n",
       "      <td>Scandinavian</td>\n",
       "      <td>10:00:00</td>\n",
       "      <td>Morning</td>\n",
       "      <td>Weekend</td>\n",
       "    </tr>\n",
       "    <tr>\n",
       "      <th>3</th>\n",
       "      <td>3</td>\n",
       "      <td>Hot chocolate</td>\n",
       "      <td>10:00:00</td>\n",
       "      <td>Morning</td>\n",
       "      <td>Weekend</td>\n",
       "    </tr>\n",
       "    <tr>\n",
       "      <th>4</th>\n",
       "      <td>3</td>\n",
       "      <td>Jam</td>\n",
       "      <td>10:00:00</td>\n",
       "      <td>Morning</td>\n",
       "      <td>Weekend</td>\n",
       "    </tr>\n",
       "    <tr>\n",
       "      <th>5</th>\n",
       "      <td>3</td>\n",
       "      <td>Cookies</td>\n",
       "      <td>10:00:00</td>\n",
       "      <td>Morning</td>\n",
       "      <td>Weekend</td>\n",
       "    </tr>\n",
       "    <tr>\n",
       "      <th>6</th>\n",
       "      <td>4</td>\n",
       "      <td>Muffin</td>\n",
       "      <td>10:00:00</td>\n",
       "      <td>Morning</td>\n",
       "      <td>Weekend</td>\n",
       "    </tr>\n",
       "    <tr>\n",
       "      <th>7</th>\n",
       "      <td>5</td>\n",
       "      <td>Coffee</td>\n",
       "      <td>10:00:00</td>\n",
       "      <td>Morning</td>\n",
       "      <td>Weekend</td>\n",
       "    </tr>\n",
       "    <tr>\n",
       "      <th>8</th>\n",
       "      <td>5</td>\n",
       "      <td>Pastry</td>\n",
       "      <td>10:00:00</td>\n",
       "      <td>Morning</td>\n",
       "      <td>Weekend</td>\n",
       "    </tr>\n",
       "    <tr>\n",
       "      <th>9</th>\n",
       "      <td>5</td>\n",
       "      <td>Bread</td>\n",
       "      <td>10:00:00</td>\n",
       "      <td>Morning</td>\n",
       "      <td>Weekend</td>\n",
       "    </tr>\n",
       "  </tbody>\n",
       "</table>\n",
       "</div>"
      ],
      "text/plain": [
       "   TransactionNo          Items  DateTime  Daypart  DayType\n",
       "0              1          Bread  10:00:00  Morning  Weekend\n",
       "1              2   Scandinavian  10:00:00  Morning  Weekend\n",
       "2              2   Scandinavian  10:00:00  Morning  Weekend\n",
       "3              3  Hot chocolate  10:00:00  Morning  Weekend\n",
       "4              3            Jam  10:00:00  Morning  Weekend\n",
       "5              3        Cookies  10:00:00  Morning  Weekend\n",
       "6              4         Muffin  10:00:00  Morning  Weekend\n",
       "7              5         Coffee  10:00:00  Morning  Weekend\n",
       "8              5         Pastry  10:00:00  Morning  Weekend\n",
       "9              5          Bread  10:00:00  Morning  Weekend"
      ]
     },
     "execution_count": 626,
     "metadata": {},
     "output_type": "execute_result"
    }
   ],
   "source": [
    "#Removed Time element to just keep dates as we have what point in the day the order was taken \n",
    "df['DateTime'] = pd.to_datetime(df['DateTime'])\n",
    "\n",
    "#Rounded up using the hour frequency unit\n",
    "df['DateTime'] = df['DateTime'].dt.round(freq='h')\n",
    "df['DateTime'] = pd.to_datetime(df['DateTime']).dt.time\n",
    "\n",
    "df.head(10)"
   ]
  },
  {
   "cell_type": "code",
   "execution_count": 627,
   "id": "0173bc84",
   "metadata": {},
   "outputs": [],
   "source": [
    "#Converted Datetime into hour integers \n",
    "# x.hour accessses the hour attribute of the datetime.time object and \n",
    "# Extracting it as an integer \n",
    "# 1 = 1am, 10 = 10am \n",
    "df['DateTime'] = df[\"DateTime\"].apply(lambda x: x.hour)"
   ]
  },
  {
   "cell_type": "code",
   "execution_count": 628,
   "id": "fdea5f26",
   "metadata": {},
   "outputs": [
    {
     "data": {
      "text/plain": [
       "TransactionNo     int64\n",
       "Items            object\n",
       "DateTime          int64\n",
       "Daypart          object\n",
       "DayType          object\n",
       "dtype: object"
      ]
     },
     "execution_count": 628,
     "metadata": {},
     "output_type": "execute_result"
    }
   ],
   "source": [
    "df.dtypes"
   ]
  },
  {
   "cell_type": "code",
   "execution_count": 629,
   "id": "1ce75f19",
   "metadata": {},
   "outputs": [
    {
     "data": {
      "text/html": [
       "<div>\n",
       "<style scoped>\n",
       "    .dataframe tbody tr th:only-of-type {\n",
       "        vertical-align: middle;\n",
       "    }\n",
       "\n",
       "    .dataframe tbody tr th {\n",
       "        vertical-align: top;\n",
       "    }\n",
       "\n",
       "    .dataframe thead th {\n",
       "        text-align: right;\n",
       "    }\n",
       "</style>\n",
       "<table border=\"1\" class=\"dataframe\">\n",
       "  <thead>\n",
       "    <tr style=\"text-align: right;\">\n",
       "      <th></th>\n",
       "      <th>TransactionNo</th>\n",
       "      <th>Items</th>\n",
       "      <th>DateTime</th>\n",
       "      <th>Daypart</th>\n",
       "      <th>DayType</th>\n",
       "    </tr>\n",
       "  </thead>\n",
       "  <tbody>\n",
       "    <tr>\n",
       "      <th>0</th>\n",
       "      <td>1</td>\n",
       "      <td>Bread</td>\n",
       "      <td>10</td>\n",
       "      <td>Morning</td>\n",
       "      <td>Weekend</td>\n",
       "    </tr>\n",
       "    <tr>\n",
       "      <th>1</th>\n",
       "      <td>2</td>\n",
       "      <td>Scandinavian</td>\n",
       "      <td>10</td>\n",
       "      <td>Morning</td>\n",
       "      <td>Weekend</td>\n",
       "    </tr>\n",
       "    <tr>\n",
       "      <th>2</th>\n",
       "      <td>2</td>\n",
       "      <td>Scandinavian</td>\n",
       "      <td>10</td>\n",
       "      <td>Morning</td>\n",
       "      <td>Weekend</td>\n",
       "    </tr>\n",
       "    <tr>\n",
       "      <th>3</th>\n",
       "      <td>3</td>\n",
       "      <td>Hot chocolate</td>\n",
       "      <td>10</td>\n",
       "      <td>Morning</td>\n",
       "      <td>Weekend</td>\n",
       "    </tr>\n",
       "    <tr>\n",
       "      <th>4</th>\n",
       "      <td>3</td>\n",
       "      <td>Jam</td>\n",
       "      <td>10</td>\n",
       "      <td>Morning</td>\n",
       "      <td>Weekend</td>\n",
       "    </tr>\n",
       "    <tr>\n",
       "      <th>...</th>\n",
       "      <td>...</td>\n",
       "      <td>...</td>\n",
       "      <td>...</td>\n",
       "      <td>...</td>\n",
       "      <td>...</td>\n",
       "    </tr>\n",
       "    <tr>\n",
       "      <th>20502</th>\n",
       "      <td>9682</td>\n",
       "      <td>Coffee</td>\n",
       "      <td>15</td>\n",
       "      <td>Afternoon</td>\n",
       "      <td>Weekend</td>\n",
       "    </tr>\n",
       "    <tr>\n",
       "      <th>20503</th>\n",
       "      <td>9682</td>\n",
       "      <td>Tea</td>\n",
       "      <td>15</td>\n",
       "      <td>Afternoon</td>\n",
       "      <td>Weekend</td>\n",
       "    </tr>\n",
       "    <tr>\n",
       "      <th>20504</th>\n",
       "      <td>9683</td>\n",
       "      <td>Coffee</td>\n",
       "      <td>15</td>\n",
       "      <td>Afternoon</td>\n",
       "      <td>Weekend</td>\n",
       "    </tr>\n",
       "    <tr>\n",
       "      <th>20505</th>\n",
       "      <td>9683</td>\n",
       "      <td>Pastry</td>\n",
       "      <td>15</td>\n",
       "      <td>Afternoon</td>\n",
       "      <td>Weekend</td>\n",
       "    </tr>\n",
       "    <tr>\n",
       "      <th>20506</th>\n",
       "      <td>9684</td>\n",
       "      <td>Smoothies</td>\n",
       "      <td>15</td>\n",
       "      <td>Afternoon</td>\n",
       "      <td>Weekend</td>\n",
       "    </tr>\n",
       "  </tbody>\n",
       "</table>\n",
       "<p>20507 rows × 5 columns</p>\n",
       "</div>"
      ],
      "text/plain": [
       "       TransactionNo          Items  DateTime    Daypart  DayType\n",
       "0                  1          Bread        10    Morning  Weekend\n",
       "1                  2   Scandinavian        10    Morning  Weekend\n",
       "2                  2   Scandinavian        10    Morning  Weekend\n",
       "3                  3  Hot chocolate        10    Morning  Weekend\n",
       "4                  3            Jam        10    Morning  Weekend\n",
       "...              ...            ...       ...        ...      ...\n",
       "20502           9682         Coffee        15  Afternoon  Weekend\n",
       "20503           9682            Tea        15  Afternoon  Weekend\n",
       "20504           9683         Coffee        15  Afternoon  Weekend\n",
       "20505           9683         Pastry        15  Afternoon  Weekend\n",
       "20506           9684      Smoothies        15  Afternoon  Weekend\n",
       "\n",
       "[20507 rows x 5 columns]"
      ]
     },
     "execution_count": 629,
     "metadata": {},
     "output_type": "execute_result"
    }
   ],
   "source": [
    "#Correct way of using df.drop() is by specifying the rows or columns to drop as its arguments \n",
    "#Conditional indexing with booleans, you need to use ~ negation operations instead of df.drop\n",
    "df[~((df['DateTime']< 20) & (df['DateTime'] > 8))]\n",
    "df"
   ]
  },
  {
   "cell_type": "code",
   "execution_count": 630,
   "id": "a4627c01",
   "metadata": {},
   "outputs": [],
   "source": [
    "#Removes every row (axis=0) that has \"any\" Null value in it \n",
    "df = df.dropna(how='any', axis=0)"
   ]
  },
  {
   "cell_type": "markdown",
   "id": "07dee984",
   "metadata": {},
   "source": [
    "### Binary transformation for logistic regression"
   ]
  },
  {
   "cell_type": "code",
   "execution_count": 631,
   "id": "a1996c3a",
   "metadata": {},
   "outputs": [],
   "source": [
    "#Convert to binary, Weekend = 1, Weekday = 0\n",
    "#Initialise dictionary structure, mapping keys\n",
    "daytype = {'Weekend': 1, 'Weekday': 0}\n",
    "#For loop iterates the Daytype column and swaps dictionary keys\n",
    "df.DayType = [daytype[items] for items in df.DayType]"
   ]
  },
  {
   "cell_type": "code",
   "execution_count": 632,
   "id": "0b23a1ab",
   "metadata": {},
   "outputs": [],
   "source": [
    "#Convert to binary, Morning = 0, Afternoon = 1, Evening = 2\n",
    "#Initialise dictionary structure, mapping keys\n",
    "daypart = {'Morning': 0, 'Afternoon': 1, 'Evening': 2, 'Night': 3}\n",
    "#For loop iterates the Daytype column and swaps dictionary keys\n",
    "df.Daypart = [daypart[items] for items in df.Daypart]"
   ]
  },
  {
   "cell_type": "code",
   "execution_count": 633,
   "id": "c821a5ea",
   "metadata": {},
   "outputs": [
    {
     "data": {
      "text/plain": [
       "array(['Adjustment', 'Afternoon with the baker', 'Alfajores',\n",
       "       'Argentina Night', 'Art Tray', 'Bacon', 'Baguette', 'Bakewell',\n",
       "       'Bare Popcorn', 'Basket', 'Bowl Nic Pitt', 'Bread',\n",
       "       'Bread Pudding', 'Brioche and salami', 'Brownie', 'Cake',\n",
       "       'Caramel bites', 'Cherry me Dried fruit', 'Chicken Stew',\n",
       "       'Chicken sand', 'Chimichurri Oil', 'Chocolates',\n",
       "       'Christmas common', 'Coffee', 'Coffee granules ', 'Coke',\n",
       "       'Cookies', 'Crepes', 'Crisps', 'Drinking chocolate spoons ',\n",
       "       'Duck egg', 'Dulce de Leche', 'Eggs', \"Ella's Kitchen Pouches\",\n",
       "       'Empanadas', 'Extra Salami or Feta', 'Fairy Doors', 'Farm House',\n",
       "       'Focaccia', 'Frittata', 'Fudge', 'Gift voucher',\n",
       "       'Gingerbread syrup', 'Granola', 'Hack the stack',\n",
       "       'Half slice Monster ', 'Hearty & Seasonal', 'Honey',\n",
       "       'Hot chocolate', 'Jam', 'Jammie Dodgers', 'Juice',\n",
       "       'Keeping It Local', 'Kids biscuit', 'Lemon and coconut',\n",
       "       'Medialuna', 'Mighty Protein', 'Mineral water', 'Mortimer',\n",
       "       'Muesli', 'Muffin', 'My-5 Fruit Shoot', 'Nomad bag',\n",
       "       'Olum & polenta', 'Panatone', 'Pastry', 'Pick and Mix Bowls',\n",
       "       'Pintxos', 'Polenta', 'Postcard', 'Raspberry shortbread sandwich',\n",
       "       'Raw bars', 'Salad', 'Sandwich', 'Scandinavian', 'Scone',\n",
       "       'Siblings', 'Smoothies', 'Soup', 'Spanish Brunch', 'Spread',\n",
       "       'Tacos/Fajita', 'Tartine', 'Tea', 'The BART', 'The Nomad',\n",
       "       'Tiffin', 'Toast', 'Truffles', 'Tshirt', \"Valentine's card\",\n",
       "       'Vegan Feast', 'Vegan mincepie', 'Victorian Sponge'], dtype=object)"
      ]
     },
     "execution_count": 633,
     "metadata": {},
     "output_type": "execute_result"
    }
   ],
   "source": [
    "#Groups the data by specific columns, and counts the occurrences of each unique combination\n",
    "df1_grouped = df.groupby(['Items', 'DateTime', 'Daypart', 'DayType']).size().reset_index(name='Count')\n",
    "\n",
    "#Checks for unique variables in the Items column\n",
    "df1_grouped['Items'].unique()"
   ]
  },
  {
   "cell_type": "code",
   "execution_count": 634,
   "id": "d01ff58b",
   "metadata": {},
   "outputs": [],
   "source": [
    "def item_table(x):\n",
    "    df1 = df1_grouped[df1_grouped[\"Items\"] == x]\n",
    "    return df1"
   ]
  },
  {
   "cell_type": "code",
   "execution_count": 635,
   "id": "e8c01c90",
   "metadata": {},
   "outputs": [],
   "source": [
    "#df1 was undefined \n",
    "df1 = item_table(\"Bread\")"
   ]
  },
  {
   "cell_type": "markdown",
   "id": "aee1d30f",
   "metadata": {},
   "source": [
    "### Predict if Bread will sell in a Weekday or Weekend"
   ]
  },
  {
   "cell_type": "code",
   "execution_count": 636,
   "id": "9595d544",
   "metadata": {},
   "outputs": [
    {
     "data": {
      "image/png": "[encoded data removed]",
      "text/plain": [
       "<Figure size 640x480 with 1 Axes>"
      ]
     },
     "metadata": {},
     "output_type": "display_data"
    }
   ],
   "source": [
    "import matplotlib.pyplot as plt\n",
    "\n",
    "#Initial exploration of Weekend/Weekday Bread sales\n",
    "#Remeber to swap Weekend and Weeday sales to opposite way round\n",
    "\n",
    "#This was a 1D array \n",
    "#Convert to a np arrays as creates an array of consecutive equally \n",
    "#Spaced values\n",
    "x = np.array(df1['Count']) #features matrix\n",
    "y = np.array(df1['DayType']) #target model\n",
    "\n",
    "#Reshape x to be a 2D array with one feature \n",
    "x = x.reshape(-1, 1)\n",
    "\n",
    "plt.scatter(x,y)\n",
    "plt.show()"
   ]
  },
  {
   "cell_type": "markdown",
   "id": "9102393b",
   "metadata": {},
   "source": [
    "#### Spliting Dataset"
   ]
  },
  {
   "cell_type": "code",
   "execution_count": 637,
   "id": "b1e05dc2",
   "metadata": {},
   "outputs": [],
   "source": [
    "#Split the data into training and testing sets\n",
    "from sklearn.model_selection import train_test_split\n",
    "\n",
    "x_train , x_test, y_train, y_test = train_test_split(x, y, random_state = 0)"
   ]
  },
  {
   "cell_type": "markdown",
   "id": "93917420",
   "metadata": {},
   "source": [
    "#### Standardise Dataa"
   ]
  },
  {
   "cell_type": "code",
   "execution_count": 638,
   "id": "4ef225a6",
   "metadata": {},
   "outputs": [],
   "source": [
    "from sklearn.preprocessing import StandardScaler\n",
    "\n",
    "#Standardised Dataset = removing the mean and scaling to unit variance\n",
    "scaler = StandardScaler()\n",
    "\n",
    "# Fit on training set only\n",
    "scaler.fit(x_train)\n",
    "\n",
    "# Apply transform to both the training set and the test set \n",
    "x_train = scaler.transform(x_train)\n",
    "x_test = scaler.transform(x_test)"
   ]
  },
  {
   "cell_type": "code",
   "execution_count": 639,
   "id": "49a841c4",
   "metadata": {},
   "outputs": [
    {
     "data": {
      "text/plain": [
       "[<matplotlib.lines.Line2D at 0x308439c50>]"
      ]
     },
     "execution_count": 639,
     "metadata": {},
     "output_type": "execute_result"
    },
    {
     "data": {
      "image/png": "[encoded data removed]",
      "text/plain": [
       "<Figure size 640x480 with 1 Axes>"
      ]
     },
     "metadata": {},
     "output_type": "display_data"
    }
   ],
   "source": [
    "#Established a signmoid function (bounded 1:0)\n",
    "def sigmoid(x):\n",
    "    a = []\n",
    "    for item in x:\n",
    "        a.append(1/(1+np.exp(-item)))\n",
    "    return a\n",
    "\n",
    "sig = sigmoid(x_train)\n",
    "plt.plot(x_train, sig)"
   ]
  },
  {
   "cell_type": "markdown",
   "id": "c81095cf",
   "metadata": {},
   "source": [
    "### Fitting Logistic Regression "
   ]
  },
  {
   "cell_type": "code",
   "execution_count": 661,
   "id": "5e29440d",
   "metadata": {},
   "outputs": [
    {
     "data": {
      "text/html": [
       "<style>#sk-container-id-33 {color: black;}#sk-container-id-33 pre{padding: 0;}#sk-container-id-33 div.sk-toggleable {background-color: white;}#sk-container-id-33 label.sk-toggleable__label {cursor: pointer;display: block;width: 100%;margin-bottom: 0;padding: 0.3em;box-sizing: border-box;text-align: center;}#sk-container-id-33 label.sk-toggleable__label-arrow:before {content: \"▸\";float: left;margin-right: 0.25em;color: #696969;}#sk-container-id-33 label.sk-toggleable__label-arrow:hover:before {color: black;}#sk-container-id-33 div.sk-estimator:hover label.sk-toggleable__label-arrow:before {color: black;}#sk-container-id-33 div.sk-toggleable__content {max-height: 0;max-width: 0;overflow: hidden;text-align: left;background-color: #f0f8ff;}#sk-container-id-33 div.sk-toggleable__content pre {margin: 0.2em;color: black;border-radius: 0.25em;background-color: #f0f8ff;}#sk-container-id-33 input.sk-toggleable__control:checked~div.sk-toggleable__content {max-height: 200px;max-width: 100%;overflow: auto;}#sk-container-id-33 input.sk-toggleable__control:checked~label.sk-toggleable__label-arrow:before {content: \"▾\";}#sk-container-id-33 div.sk-estimator input.sk-toggleable__control:checked~label.sk-toggleable__label {background-color: #d4ebff;}#sk-container-id-33 div.sk-label input.sk-toggleable__control:checked~label.sk-toggleable__label {background-color: #d4ebff;}#sk-container-id-33 input.sk-hidden--visually {border: 0;clip: rect(1px 1px 1px 1px);clip: rect(1px, 1px, 1px, 1px);height: 1px;margin: -1px;overflow: hidden;padding: 0;position: absolute;width: 1px;}#sk-container-id-33 div.sk-estimator {font-family: monospace;background-color: #f0f8ff;border: 1px dotted black;border-radius: 0.25em;box-sizing: border-box;margin-bottom: 0.5em;}#sk-container-id-33 div.sk-estimator:hover {background-color: #d4ebff;}#sk-container-id-33 div.sk-parallel-item::after {content: \"\";width: 100%;border-bottom: 1px solid gray;flex-grow: 1;}#sk-container-id-33 div.sk-label:hover label.sk-toggleable__label {background-color: #d4ebff;}#sk-container-id-33 div.sk-serial::before {content: \"\";position: absolute;border-left: 1px solid gray;box-sizing: border-box;top: 0;bottom: 0;left: 50%;z-index: 0;}#sk-container-id-33 div.sk-serial {display: flex;flex-direction: column;align-items: center;background-color: white;padding-right: 0.2em;padding-left: 0.2em;position: relative;}#sk-container-id-33 div.sk-item {position: relative;z-index: 1;}#sk-container-id-33 div.sk-parallel {display: flex;align-items: stretch;justify-content: center;background-color: white;position: relative;}#sk-container-id-33 div.sk-item::before, #sk-container-id-33 div.sk-parallel-item::before {content: \"\";position: absolute;border-left: 1px solid gray;box-sizing: border-box;top: 0;bottom: 0;left: 50%;z-index: -1;}#sk-container-id-33 div.sk-parallel-item {display: flex;flex-direction: column;z-index: 1;position: relative;background-color: white;}#sk-container-id-33 div.sk-parallel-item:first-child::after {align-self: flex-end;width: 50%;}#sk-container-id-33 div.sk-parallel-item:last-child::after {align-self: flex-start;width: 50%;}#sk-container-id-33 div.sk-parallel-item:only-child::after {width: 0;}#sk-container-id-33 div.sk-dashed-wrapped {border: 1px dashed gray;margin: 0 0.4em 0.5em 0.4em;box-sizing: border-box;padding-bottom: 0.4em;background-color: white;}#sk-container-id-33 div.sk-label label {font-family: monospace;font-weight: bold;display: inline-block;line-height: 1.2em;}#sk-container-id-33 div.sk-label-container {text-align: center;}#sk-container-id-33 div.sk-container {/* jupyter's `normalize.less` sets `[hidden] { display: none; }` but bootstrap.min.css set `[hidden] { display: none !important; }` so we also need the `!important` here to be able to override the default hidden behavior on the sphinx rendered scikit-learn.org. See: https://github.com/scikit-learn/scikit-learn/issues/21755 */display: inline-block !important;position: relative;}#sk-container-id-33 div.sk-text-repr-fallback {display: none;}</style><div id=\"sk-container-id-33\" class=\"sk-top-container\"><div class=\"sk-text-repr-fallback\"><pre>LogisticRegression()</pre><b>In a Jupyter environment, please rerun this cell to show the HTML representation or trust the notebook. <br />On GitHub, the HTML representation is unable to render, please try loading this page with nbviewer.org.</b></div><div class=\"sk-container\" hidden><div class=\"sk-item\"><div class=\"sk-estimator sk-toggleable\"><input class=\"sk-toggleable__control sk-hidden--visually\" id=\"sk-estimator-id-33\" type=\"checkbox\" checked><label for=\"sk-estimator-id-33\" class=\"sk-toggleable__label sk-toggleable__label-arrow\">LogisticRegression</label><div class=\"sk-toggleable__content\"><pre>LogisticRegression()</pre></div></div></div></div></div>"
      ],
      "text/plain": [
       "LogisticRegression()"
      ]
     },
     "execution_count": 661,
     "metadata": {},
     "output_type": "execute_result"
    }
   ],
   "source": [
    "logr = LogisticRegression()\n",
    "\n",
    "#Training the model on the data, learning relationship between x and y\n",
    "logr.fit(x_train, y_train)"
   ]
  },
  {
   "cell_type": "code",
   "execution_count": 662,
   "id": "6211a188",
   "metadata": {},
   "outputs": [],
   "source": [
    "#Set a custom threhold value \n",
    "custom_threshold = 0.5\n",
    "\n",
    "#Calculate the predicted probabilities for the test set\n",
    "probs = logr.predict_proba(x_test)\n",
    "\n",
    "#Preditions on the data with the threshold parameter\n",
    "preds = (probs[:,1] >= custom_threshold).astype(int)"
   ]
  },
  {
   "cell_type": "markdown",
   "id": "b16d4c13",
   "metadata": {},
   "source": [
    "#### Evaluation Metrics\n",
    "- The model created for predicted if Bread will sell on a weekday or weekend has a good accuracy score of 75%, which is acceptable for bakery industry"
   ]
  },
  {
   "cell_type": "code",
   "execution_count": 663,
   "id": "89df6e00",
   "metadata": {},
   "outputs": [
    {
     "name": "stdout",
     "output_type": "stream",
     "text": [
      "0.75\n"
     ]
    }
   ],
   "source": [
    "#Calculate classification accuracy \n",
    "#fraction of correct predictions, total number of data points\n",
    "score = logr.score(x_test, y_test)\n",
    "print(score)"
   ]
  },
  {
   "cell_type": "code",
   "execution_count": 664,
   "id": "1fbdcf32",
   "metadata": {},
   "outputs": [
    {
     "data": {
      "text/plain": [
       "array([[2, 1],\n",
       "       [1, 4]])"
      ]
     },
     "execution_count": 664,
     "metadata": {},
     "output_type": "execute_result"
    }
   ],
   "source": [
    "#Creates a confusion matrix\n",
    "cm = metrics.confusion_matrix(y_test, preds)\n",
    "cm"
   ]
  },
  {
   "cell_type": "code",
   "execution_count": 665,
   "id": "c5f3d527",
   "metadata": {},
   "outputs": [
    {
     "data": {
      "image/png": "[encoded data removed]",
      "text/plain": [
       "<Figure size 900x900 with 2 Axes>"
      ]
     },
     "metadata": {},
     "output_type": "display_data"
    }
   ],
   "source": [
    "#Visualisation of the confusion matrix \n",
    "plt.figure(figsize=(9,9))\n",
    "sns.heatmap(cm,annot=True,\n",
    "           fmt=\".0f\",\n",
    "           linewidth=.5,\n",
    "           square=True,\n",
    "           cmap = \"Greens\");\n",
    "    \n",
    "plt.ylabel('Actual Bread Sales', fontsize = 15);\n",
    "plt.xlabel('Predicted Bread Sales', fontsize = 15);\n",
    "plt.title('Accuracy Score of Bread Sales: {}'.format(score), size = 15);\n",
    "plt.tick_params(labelsize= 15)\n",
    "    "
   ]
  },
  {
   "cell_type": "markdown",
   "id": "aa004b74",
   "metadata": {},
   "source": [
    "#### Recall score \n",
    "- The recall score for predicting a Weekend Bread sale is excellent at 80%\n",
    "- The recall score for predicting a Weekday Bread sale is pretty good being between 60% - 70%"
   ]
  },
  {
   "cell_type": "code",
   "execution_count": 666,
   "id": "9d140a35",
   "metadata": {},
   "outputs": [
    {
     "name": "stdout",
     "output_type": "stream",
     "text": [
      "              precision    recall  f1-score   support\n",
      "\n",
      "           0       0.67      0.67      0.67         3\n",
      "           1       0.80      0.80      0.80         5\n",
      "\n",
      "    accuracy                           0.75         8\n",
      "   macro avg       0.73      0.73      0.73         8\n",
      "weighted avg       0.75      0.75      0.75         8\n",
      "\n"
     ]
    }
   ],
   "source": [
    "# 0 = Weekday, 1 = Weekend\n",
    "print(classification_report(y_test,preds))"
   ]
  },
  {
   "cell_type": "markdown",
   "id": "093c8900",
   "metadata": {},
   "source": [
    "#### Sensitivity & Specificity \n",
    "- The sensitivity and specificity values are reasonably close together, which is a good sign that both True positives and True negatives are close to equally being predicted"
   ]
  },
  {
   "cell_type": "code",
   "execution_count": 667,
   "id": "a11e2dcc",
   "metadata": {},
   "outputs": [
    {
     "name": "stdout",
     "output_type": "stream",
     "text": [
      "Sensitivity: 0.800\n",
      "Specificity: 0.667\n"
     ]
    }
   ],
   "source": [
    "true_pos = cm[1,1]\n",
    "false_pos = cm[0,1]\n",
    "true_neg = cm[0,0]\n",
    "false_neg = cm[1,0]\n",
    "\n",
    "# Calculate Sensitivity specificity \n",
    "sensitivity = true_pos / (true_pos + false_neg)\n",
    "specificity = true_neg / (true_neg + false_pos)\n",
    "\n",
    "print('Sensitivity: {:.3f}'.format(sensitivity))\n",
    "#Our model does extremely  to really pick up on positive cases (True positive rate)\n",
    "print('Specificity: {:.3f}'.format(specificity))\n",
    "#However our model does extreme well to predict negative cases (True negative rate)"
   ]
  },
  {
   "cell_type": "markdown",
   "id": "ec6fad8a",
   "metadata": {},
   "source": [
    "### Predicting the quality of bread sold based on the time of the day "
   ]
  },
  {
   "cell_type": "code",
   "execution_count": 694,
   "id": "bd47ae09",
   "metadata": {},
   "outputs": [],
   "source": [
    "#Nobody is selling bread at 1 am, I am removing it as an outlier\n",
    "df1 = df1[~(df1['DateTime'] == 1)]"
   ]
  },
  {
   "cell_type": "code",
   "execution_count": 693,
   "id": "a158d24f",
   "metadata": {},
   "outputs": [],
   "source": [
    "#Removed 8, 9 and 10am as they seemed to beoutliers in the dataset\n",
    "df1 = df1[~(df1['DateTime'] < 11)]"
   ]
  },
  {
   "cell_type": "code",
   "execution_count": 695,
   "id": "609a3c81",
   "metadata": {},
   "outputs": [
    {
     "data": {
      "image/png": "[encoded data removed]",
      "text/plain": [
       "<Figure size 640x480 with 1 Axes>"
      ]
     },
     "metadata": {},
     "output_type": "display_data"
    }
   ],
   "source": [
    "x = np.array(df1['DateTime']) #features matrix\n",
    "y = np.array(df1['Count']) #target model\n",
    "\n",
    "x = x.reshape(-1, 1)\n",
    "\n",
    "plt.scatter(x,y)\n",
    "plt.show()"
   ]
  },
  {
   "cell_type": "code",
   "execution_count": 696,
   "id": "c110abce",
   "metadata": {},
   "outputs": [],
   "source": [
    "x_train , x_test, y_train, y_test = train_test_split(x, y, random_state = 0)"
   ]
  },
  {
   "cell_type": "code",
   "execution_count": 697,
   "id": "18e49fc3",
   "metadata": {},
   "outputs": [
    {
     "data": {
      "text/html": [
       "<style>#sk-container-id-35 {color: black;}#sk-container-id-35 pre{padding: 0;}#sk-container-id-35 div.sk-toggleable {background-color: white;}#sk-container-id-35 label.sk-toggleable__label {cursor: pointer;display: block;width: 100%;margin-bottom: 0;padding: 0.3em;box-sizing: border-box;text-align: center;}#sk-container-id-35 label.sk-toggleable__label-arrow:before {content: \"▸\";float: left;margin-right: 0.25em;color: #696969;}#sk-container-id-35 label.sk-toggleable__label-arrow:hover:before {color: black;}#sk-container-id-35 div.sk-estimator:hover label.sk-toggleable__label-arrow:before {color: black;}#sk-container-id-35 div.sk-toggleable__content {max-height: 0;max-width: 0;overflow: hidden;text-align: left;background-color: #f0f8ff;}#sk-container-id-35 div.sk-toggleable__content pre {margin: 0.2em;color: black;border-radius: 0.25em;background-color: #f0f8ff;}#sk-container-id-35 input.sk-toggleable__control:checked~div.sk-toggleable__content {max-height: 200px;max-width: 100%;overflow: auto;}#sk-container-id-35 input.sk-toggleable__control:checked~label.sk-toggleable__label-arrow:before {content: \"▾\";}#sk-container-id-35 div.sk-estimator input.sk-toggleable__control:checked~label.sk-toggleable__label {background-color: #d4ebff;}#sk-container-id-35 div.sk-label input.sk-toggleable__control:checked~label.sk-toggleable__label {background-color: #d4ebff;}#sk-container-id-35 input.sk-hidden--visually {border: 0;clip: rect(1px 1px 1px 1px);clip: rect(1px, 1px, 1px, 1px);height: 1px;margin: -1px;overflow: hidden;padding: 0;position: absolute;width: 1px;}#sk-container-id-35 div.sk-estimator {font-family: monospace;background-color: #f0f8ff;border: 1px dotted black;border-radius: 0.25em;box-sizing: border-box;margin-bottom: 0.5em;}#sk-container-id-35 div.sk-estimator:hover {background-color: #d4ebff;}#sk-container-id-35 div.sk-parallel-item::after {content: \"\";width: 100%;border-bottom: 1px solid gray;flex-grow: 1;}#sk-container-id-35 div.sk-label:hover label.sk-toggleable__label {background-color: #d4ebff;}#sk-container-id-35 div.sk-serial::before {content: \"\";position: absolute;border-left: 1px solid gray;box-sizing: border-box;top: 0;bottom: 0;left: 50%;z-index: 0;}#sk-container-id-35 div.sk-serial {display: flex;flex-direction: column;align-items: center;background-color: white;padding-right: 0.2em;padding-left: 0.2em;position: relative;}#sk-container-id-35 div.sk-item {position: relative;z-index: 1;}#sk-container-id-35 div.sk-parallel {display: flex;align-items: stretch;justify-content: center;background-color: white;position: relative;}#sk-container-id-35 div.sk-item::before, #sk-container-id-35 div.sk-parallel-item::before {content: \"\";position: absolute;border-left: 1px solid gray;box-sizing: border-box;top: 0;bottom: 0;left: 50%;z-index: -1;}#sk-container-id-35 div.sk-parallel-item {display: flex;flex-direction: column;z-index: 1;position: relative;background-color: white;}#sk-container-id-35 div.sk-parallel-item:first-child::after {align-self: flex-end;width: 50%;}#sk-container-id-35 div.sk-parallel-item:last-child::after {align-self: flex-start;width: 50%;}#sk-container-id-35 div.sk-parallel-item:only-child::after {width: 0;}#sk-container-id-35 div.sk-dashed-wrapped {border: 1px dashed gray;margin: 0 0.4em 0.5em 0.4em;box-sizing: border-box;padding-bottom: 0.4em;background-color: white;}#sk-container-id-35 div.sk-label label {font-family: monospace;font-weight: bold;display: inline-block;line-height: 1.2em;}#sk-container-id-35 div.sk-label-container {text-align: center;}#sk-container-id-35 div.sk-container {/* jupyter's `normalize.less` sets `[hidden] { display: none; }` but bootstrap.min.css set `[hidden] { display: none !important; }` so we also need the `!important` here to be able to override the default hidden behavior on the sphinx rendered scikit-learn.org. See: https://github.com/scikit-learn/scikit-learn/issues/21755 */display: inline-block !important;position: relative;}#sk-container-id-35 div.sk-text-repr-fallback {display: none;}</style><div id=\"sk-container-id-35\" class=\"sk-top-container\"><div class=\"sk-text-repr-fallback\"><pre>LinearRegression()</pre><b>In a Jupyter environment, please rerun this cell to show the HTML representation or trust the notebook. <br />On GitHub, the HTML representation is unable to render, please try loading this page with nbviewer.org.</b></div><div class=\"sk-container\" hidden><div class=\"sk-item\"><div class=\"sk-estimator sk-toggleable\"><input class=\"sk-toggleable__control sk-hidden--visually\" id=\"sk-estimator-id-35\" type=\"checkbox\" checked><label for=\"sk-estimator-id-35\" class=\"sk-toggleable__label sk-toggleable__label-arrow\">LinearRegression</label><div class=\"sk-toggleable__content\"><pre>LinearRegression()</pre></div></div></div></div></div>"
      ],
      "text/plain": [
       "LinearRegression()"
      ]
     },
     "execution_count": 697,
     "metadata": {},
     "output_type": "execute_result"
    }
   ],
   "source": [
    "from sklearn.linear_model import LinearRegression\n",
    "\n",
    "# Make a linear regession instance\n",
    "lr = LinearRegression()\n",
    "\n",
    "#Training the model on the data, storing the information learned from the data \n",
    "# Model is learning the relationship between x2 and 2y\n",
    "lr.fit(x_train, y_train)"
   ]
  },
  {
   "cell_type": "code",
   "execution_count": 698,
   "id": "ae18d330",
   "metadata": {},
   "outputs": [],
   "source": [
    "pred = lr.predict(x_train)"
   ]
  },
  {
   "cell_type": "code",
   "execution_count": 699,
   "id": "fa7ee29f",
   "metadata": {},
   "outputs": [
    {
     "data": {
      "text/plain": [
       "<function matplotlib.pyplot.show(close=None, block=None)>"
      ]
     },
     "execution_count": 699,
     "metadata": {},
     "output_type": "execute_result"
    },
    {
     "data": {
      "image/png": "[encoded data removed]",
      "text/plain": [
       "<Figure size 640x480 with 1 Axes>"
      ]
     },
     "metadata": {},
     "output_type": "display_data"
    }
   ],
   "source": [
    "#Plot a regression line / decided to remove all data points before 10\n",
    "plt.scatter(x_train, y_train, color='blue')\n",
    "plt.plot(x_train, pred, color = 'red')\n",
    "plt.xlabel(\"Time of Day\")\n",
    "plt.ylabel(\"Quatity of bread sold\")\n",
    "plt.show"
   ]
  },
  {
   "cell_type": "code",
   "execution_count": 700,
   "id": "40aadc01",
   "metadata": {},
   "outputs": [
    {
     "name": "stdout",
     "output_type": "stream",
     "text": [
      "intercept: 517.3922542204568\n",
      "slope: [-27.17328699]\n"
     ]
    }
   ],
   "source": [
    "# Y = mx + b \n",
    "#Finding the intercept (b)\n",
    "print(f\"intercept: {lr.intercept_}\")\n",
    "\n",
    "#Finding the slope (m)\n",
    "print(f\"slope: {lr.coef_}\")\n",
    "\n"
   ]
  },
  {
   "cell_type": "markdown",
   "id": "7b7770c4",
   "metadata": {},
   "source": [
    "#### Predicting Bread sales based on time of day"
   ]
  },
  {
   "cell_type": "code",
   "execution_count": 701,
   "id": "51e12961",
   "metadata": {},
   "outputs": [
    {
     "name": "stdout",
     "output_type": "stream",
     "text": [
      " predicted bread based on time of day: \n",
      " [ 82.61966236 -26.0734856   55.44637537 136.96623635 164.13952334\n",
      "  55.44637537 191.31281033 191.31281033 191.31281033  28.27308838\n",
      " 136.96623635 164.13952334  28.27308838 191.31281033 218.48609732\n",
      "  55.44637537  82.61966236]\n"
     ]
    }
   ],
   "source": [
    "print(f\" predicted bread based on time of day: \\n {pred}\")"
   ]
  },
  {
   "cell_type": "code",
   "execution_count": 702,
   "id": "55d8ab68",
   "metadata": {},
   "outputs": [
    {
     "name": "stdout",
     "output_type": "stream",
     "text": [
      "predicted response:\n",
      "[ 82.61966236 -26.0734856   55.44637537 136.96623635 164.13952334\n",
      "  55.44637537 191.31281033 191.31281033 191.31281033  28.27308838\n",
      " 136.96623635 164.13952334  28.27308838 191.31281033 218.48609732\n",
      "  55.44637537  82.61966236]\n"
     ]
    }
   ],
   "source": [
    "y_pred = lr.intercept_ + np.sum(lr.coef_ * x_train, axis=1)\n",
    "print(f\"predicted response:\\n{y_pred}\")"
   ]
  },
  {
   "cell_type": "markdown",
   "id": "e97ff3a1",
   "metadata": {},
   "source": [
    "#### Getting the result properties \n",
    "- Making the model predict from 11am onwards dramatically improve the regression models fit to the predicting the bread sales based on time of day (As 0.84 is closer to 1 signifies a better fit to the data) "
   ]
  },
  {
   "cell_type": "code",
   "execution_count": 703,
   "id": "df6b5873",
   "metadata": {},
   "outputs": [
    {
     "name": "stdout",
     "output_type": "stream",
     "text": [
      "coefficient of determination: 0.844999669183315\n"
     ]
    }
   ],
   "source": [
    "score = lr.score(x_test, y_test)\n",
    "print(f\"score: {score}\")"
   ]
  },
  {
   "cell_type": "code",
   "execution_count": null,
   "id": "677a5c56",
   "metadata": {},
   "outputs": [],
   "source": []
  },
  {
   "cell_type": "code",
   "execution_count": null,
   "id": "f35c392b",
   "metadata": {},
   "outputs": [],
   "source": []
  },
  {
   "cell_type": "code",
   "execution_count": null,
   "id": "1a8b8ca1",
   "metadata": {},
   "outputs": [],
   "source": []
  }
 ],
 "metadata": {
  "kernelspec": {
   "display_name": "Python 3 (ipykernel)",
   "language": "python",
   "name": "python3"
  },
  "language_info": {
   "codemirror_mode": {
    "name": "ipython",
    "version": 3
   },
   "file_extension": ".py",
   "mimetype": "text/x-python",
   "name": "python",
   "nbconvert_exporter": "python",
   "pygments_lexer": "ipython3",
   "version": "3.11.5"
  }
 },
 "nbformat": 4,
 "nbformat_minor": 5
}
